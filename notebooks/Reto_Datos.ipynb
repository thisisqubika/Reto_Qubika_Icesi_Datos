{
 "cells": [
  {
   "cell_type": "markdown",
   "metadata": {},
   "source": [
    "# [![Open In Colab](https://colab.research.google.com/assets/colab-badge.svg)](https://colab.research.google.com/github/thisisqubika/Reto_Qubika_Icesi_Datos/blob/main/notebooks/Reto_Datos.ipynb.ipynb)\n",
    "\n",
    "\n",
    "#     <div style=\"background-color: #f5f5f5; padding: 20px; border-radius: 0px;\">\n",
    "#         <table width=\"100%\" style=\"border: none; border-collapse: collapse;\">\n",
    "#             <tr style=\"border: none;\">\n",
    "#                 <td width=\"50%\" align=\"center\" style=\"border: none;\">\n",
    "#                      <img src=\"https://raw.githubusercontent.com/thisisqubika/Reto_Qubika_Icesi_Datos/main/images/Qubika_logo.png\" width=\"60%\" alt=\"Qubika Logo\">\n",
    "#                 </td>\n",
    "#                 <td width=\"50%\" align=\"center\" style=\"border: none;\">\n",
    "#                     <img src=\"https://raw.githubusercontent.com/thisisqubika/Reto_Qubika_Icesi_Datos/main/images/Logo_de_la_Universidad_ICESI.png\" width=\"60%\" alt=\"Icesi Logo\">\n",
    "#                 </td>\n",
    "#             </tr>\n",
    "#         </table>\n",
    "#     </div>\n",
    "\n"
   ]
  },
  {
   "cell_type": "markdown",
   "metadata": {},
   "source": [
    "# Reto para certificación en Datos Qubika-Icesi"
   ]
  },
  {
   "cell_type": "markdown",
   "metadata": {},
   "source": [
    "\n",
    "En este reto usaremos modelos de libre acceso que están en el repositorio de Hugging Face. Para usar estos modelos, es necesario tener un token de acceso. Siga los siguientes pasos para obtenerlo:\n",
    "1. Cree una cuenta en Hugging Face si aún no tiene una en la página https://huggingface.co/\n",
    "2. Inicie sesión en su cuenta de Hugging Face\n",
    "3. Vaya a la configuración de su cuenta haciendo clic en su foto de perfil y seleccionando \"Settings\"\n",
    "4. En el menú lateral, seleccione \"Access Tokens\"\n",
    "5. Haga clic en \"New token\"\n",
    "6. Asigne un nombre descriptivo a su token\n",
    "7. Seleccione los permisos necesarios (read para este caso es suficiente)\n",
    " 8. Haga clic en \"Create\" para generar el token\n",
    "9. Copie y guarde el token en un lugar seguro, ya que no podrá verlo nuevamente\n",
    " 10. Use este token en su código para autenticarse con la API de Hugging Face\n",
    " # ![Hugging Face Logo](https://huggingface.co/front/assets/huggingface_logo-noborder.svg)\n",
    "\n",
    "Si va a usar google colab, puede guardar el token en el botón de secrets. De lo contrario, puede declararlo como una variable de entorno en su máquina.\n",
    "\n"
   ]
  },
  {
   "cell_type": "markdown",
   "metadata": {},
   "source": [
    "# 1. Scrapping de Noticias\n",
    "\n",
    "\n",
    "Obtener noticias desde diversas fuentes en línea.\n",
    "\n",
    "## Tareas\n",
    "- Seleccionar noticias de diversas fuentes (por ejemplo, sitios web de noticias, blogs, etc.)\n",
    "- Usar bibliotecas como BeautifulSoup o Scrapy para realizar el scraping\n",
    "- Extraer datos relevantes: título, autor, fecha, contenido, y enlaces\n",
    "- Almacenar las noticias en un formato estructurado para ser utilizado en la siguiente etapa."
   ]
  },
  {
   "cell_type": "markdown",
   "metadata": {},
   "source": [
    "Solución - web scraping"
   ]
  },
  {
   "cell_type": "markdown",
   "metadata": {},
   "source": [
    "# 2. Creación de una Base de Datos Vectorial (Vector Store)\n",
    "\n",
    "Permitir la búsqueda y comparación eficiente de las noticias.\n",
    "\n",
    "## Tareas\n",
    "- Preprocesar los datos (limpieza de texto, eliminación de duplicados)\n",
    "- Utilizar un modelo de lenguaje de Hugging Face (como BERT o Sentence Transformers) para convertir el texto en vectores (embeddings)\n",
    "- Almacenar los vectores en una base de datos vectorial (por ejemplo, Chroma Local Mode, vespa)\n",
    "\n",
    "<br>\n",
    "<br>\n",
    "\n",
    "\n",
    "<figure>\n",
    "    <img src=\"https://raw.githubusercontent.com/thisisqubika/Reto_Qubika_Icesi_Datos/main/images/database.png\" alt=\"drawing\" width=\"600\"/>\n",
    "    <figcaption>Figura 1: Flujo de trabajo para la creación de una base de datos vectorial. Fuente Data Camp</figcaption>\n",
    "</figure>\n",
    "\n"
   ]
  },
  {
   "cell_type": "code",
   "execution_count": 1,
   "metadata": {},
   "outputs": [],
   "source": [
    "# Solución "
   ]
  },
  {
   "cell_type": "markdown",
   "metadata": {},
   "source": [
    "# 3. Incorporación de RAG (Retrieval-Augmented Generation)\n",
    "\n",
    "\n",
    "Mejorar el rendimiento del modelo al combinar generación y recuperación.\n",
    "\n",
    "## Tareas\n",
    "- Integrar un modelo de lenguaje que utilice el vector store para generar respuestas basadas en la información rele\n",
    "- Configurar el sistema para que realice consultas a la base de datos vectorial para obtener información antes de generar respuestas.\n",
    "\n",
    "\n",
    "\n",
    "\n",
    " <figure>\n",
    "    <img src=\"https://raw.githubusercontent.com/thisisqubika/Reto_Qubika_Icesi_Datos/main/images/RAG.png\" alt=\"drawing\" width=\"600\"/>\n",
    "    <figcaption>Figura 2: Flujo de trabajo para la incorporación de RAG. Fuente Data Camp</figcaption>\n",
    "</figure>\n"
   ]
  },
  {
   "cell_type": "markdown",
   "metadata": {},
   "source": [
    "# 4. Evaluación de Métricas con DeepEval\n",
    "\n",
    "Medir el rendimiento del modelo y la calidad de la información generada.\n",
    "\n",
    "## Tareas\n",
    "\n",
    "- Usar DeepEval para calcular estas métricas basándose en los resultados del modelo\n",
    "- Analizar y documentar los resultados de la evaluación"
   ]
  },
  {
   "cell_type": "code",
   "execution_count": 2,
   "metadata": {},
   "outputs": [],
   "source": [
    "# Solución"
   ]
  },
  {
   "cell_type": "markdown",
   "metadata": {},
   "source": [
    "# 5. Narración de Comparación entre Dos Fuentes\n",
    "\n",
    "Proporcionar un análisis comparativo de las noticias de dos fuentes.\n",
    "\n",
    "## Tareas\n",
    "- Seleccionar dos noticias de diferentes fuentes sobre el mismo tema, \n",
    "- Resumir y comparar los puntos clave de ambas fuentes.\n",
    "- Usar un modelo de síntesis de voz de Hugging Face para narrar la comparación. "
   ]
  },
  {
   "cell_type": "code",
   "execution_count": null,
   "metadata": {},
   "outputs": [],
   "source": [
    "\n",
    "# solution"
   ]
  },
  {
   "cell_type": "markdown",
   "metadata": {},
   "source": [
    "# 6. Implementación en Streamlit\n",
    "Crear una interfaz de usuario para interactuar con el sistema.\n",
    "\n",
    "Crear una interfaz de usuario para interactuar con el sistema.\n",
    "\n",
    "**Tareas:**\n",
    "\n",
    "- Desarrollar una aplicación en Streamlit que muestre el resumen de las noticias y sus comparaciones.\n",
    "- Añadir un botón para reproducir la narración  de la comparación o del resumen.\n",
    "- Pueden añadir otro tipo de visualizaciones como gráficos si lo desean.\n",
    "\n",
    "Esta solución puede ser entregada en un contenedor de docker. "
   ]
  },
  {
   "cell_type": "markdown",
   "metadata": {},
   "source": []
  }
 ],
 "metadata": {
  "kernelspec": {
   "display_name": "Python 3",
   "language": "python",
   "name": "python3"
  },
  "language_info": {
   "codemirror_mode": {
    "name": "ipython",
    "version": 3
   },
   "file_extension": ".py",
   "mimetype": "text/x-python",
   "name": "python",
   "nbconvert_exporter": "python",
   "pygments_lexer": "ipython3",
   "version": "3.10.13"
  }
 },
 "nbformat": 4,
 "nbformat_minor": 2
}
